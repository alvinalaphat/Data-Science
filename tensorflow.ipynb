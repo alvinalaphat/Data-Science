{
 "cells": [
  {
   "cell_type": "markdown",
   "metadata": {
    "collapsed": true
   },
   "source": [
    "Intro to Tensorflow\n",
    "---\n",
    "\n",
    "Import tensorflow and other needed libraries here:"
   ]
  },
  {
   "cell_type": "code",
   "execution_count": 36,
   "metadata": {},
   "outputs": [],
   "source": [
    "# TODO: Add imports.\n",
    "import tensorflow as tf\n",
    "import matplotlib.pyplot as plt\n",
    "%matplotlib inline"
   ]
  },
  {
   "cell_type": "markdown",
   "metadata": {},
   "source": [
    "Clear the Graph\n",
    "---\n",
    "Clear the default graph to reset everything back to default"
   ]
  },
  {
   "cell_type": "code",
   "execution_count": 9,
   "metadata": {},
   "outputs": [],
   "source": [
    "# TODO: Clear the tensorflow graph\n",
    "tf.reset_default_graph()\n",
    "test_constant = tf.constant(10.0,dtype=tf.float32)\n",
    "add_one_operation = test_constant + 1"
   ]
  },
  {
   "cell_type": "markdown",
   "metadata": {},
   "source": [
    "Set up Placeholders\n",
    "---\n",
    "Placeholders are places you can feed data into your model. They indicate a value that you'll feed in later when the network is run."
   ]
  },
  {
   "cell_type": "code",
   "execution_count": 10,
   "metadata": {},
   "outputs": [],
   "source": [
    "# TODO: Create placeholders\n",
    "tf.reset_default_graph()\n",
    "tf.placeholder\n",
    "input_data = tf.placeholder(dtype=tf.float32, shape=None)\n",
    "double_operation = input_data * 2"
   ]
  },
  {
   "cell_type": "markdown",
   "metadata": {},
   "source": [
    "Variables\n",
    "---\n",
    "Variables keep their value between runs. These are the building blocks of machine learning, and represent the parameters that will be tuned as your model trains"
   ]
  },
  {
   "cell_type": "code",
   "execution_count": 34,
   "metadata": {},
   "outputs": [],
   "source": [
    "# TODO: Create variables\n",
    "tf.reset_default_graph\n",
    "tf.placeholder\n",
    "input_data = tf.placeholder(dtype=tf.float32, shape=None)\n",
    "output_data = tf.placeholder(dtype=tf.float32, shape=None)\n",
    "\n",
    "slope = tf.Variable(1, dtype=tf.float32)\n",
    "intercept = tf.Variable(1, dtype=tf.float32)\n",
    "\n",
    "model_operation = slope * input_data + intercept\n",
    "\n",
    "error = model_operation - output_data\n",
    "squared_error = tf.square(error)\n",
    "loss = tf.reduce_mean(squared_error)\n",
    "\n",
    "optimizer = tf.train.GradientDescentOptimizer(learning_rate=.01)\n",
    "train = optimizer.minimize(loss)"
   ]
  },
  {
   "cell_type": "markdown",
   "metadata": {},
   "source": [
    "Running a Session\n",
    "---\n",
    "Once your graph is built, you can start a session. Putting the session in a `with` statement allows the session to automatically close once the statement finishes:\n",
    "```\n",
    "with tf.Session() as sess:\n",
    "    # Run the session in here\n",
    "    ...\n",
    "# Session closes when you get here\n",
    "```"
   ]
  },
  {
   "cell_type": "code",
   "execution_count": 39,
   "metadata": {},
   "outputs": [
    {
     "name": "stdout",
     "output_type": "stream",
     "text": [
      "[2.5666666, 1.22]\n[3.0913343, 1.3359159]\n[3.0857875, 1.3762511]\n[3.0805769, 1.4141363]\n[3.0756826, 1.4497204]\n[3.0710859, 1.4831432]\n[3.0667684, 1.5145364]\n[3.0627129, 1.5440222]\n[3.0589039, 1.5717174]\n[3.0553262, 1.5977304]\n[3.0519657, 1.6221634]\n[3.0488095, 1.6451125]\n[3.045845, 1.6666677]\n[3.0430605, 1.6869136]\n[3.0404451, 1.7059296]\n"
     ]
    },
    {
     "name": "stdout",
     "output_type": "stream",
     "text": [
      "[3.0379884, 1.723791]\n[3.035681, 1.7405674]\n[3.0335138, 1.7563249]\n[3.0314784, 1.7711251]\n[3.0295663, 1.7850264]\n[3.0277705, 1.7980837]\n[3.0260839, 1.8103474]\n[3.0244997, 1.8218666]\n[3.0230117, 1.8326862]\n[3.0216138, 1.8428485]\n[3.0203011, 1.8523936]\n[3.019068, 1.8613586]\n[3.0179098, 1.8697793]\n[3.0168221, 1.8776888]\n[3.0158002, 1.8851179]\n[3.0148406, 1.8920957]\n[3.0139394, 1.8986497]\n"
     ]
    },
    {
     "name": "stdout",
     "output_type": "stream",
     "text": [
      "[3.0130925, 1.9048057]\n[3.0122974, 1.9105875]\n[3.0115504, 1.9160182]\n[3.0108488, 1.9211193]\n[3.0101898, 1.9259105]\n[3.0095711, 1.9304105]\n[3.0089898, 1.9346372]\n[3.0084436, 1.9386071]\n[3.0079308, 1.9423361]\n[3.0074492, 1.9458386]\n[3.0069966, 1.9491282]\n[3.0065718, 1.9522179]\n[3.0061724, 1.9551201]\n[3.0057976, 1.9578462]\n[3.0054455, 1.9604065]\n[3.0051148, 1.9628115]\n[3.0048041, 1.9650702]\n"
     ]
    },
    {
     "name": "stdout",
     "output_type": "stream",
     "text": [
      "[3.0045123, 1.9671918]\n[3.0042381, 1.9691846]\n[3.0039809, 1.9710565]\n[3.0037389, 1.9728143]\n[3.0035119, 1.9744657]\n[3.0032985, 1.9760166]\n[3.0030982, 1.9774734]\n[3.0029101, 1.9788415]\n[3.0027332, 1.9801266]\n[3.0025673, 1.9813336]\n[3.0024114, 1.9824673]\n[3.002265, 1.9835321]\n[3.0021274, 1.9845324]\n[3.0019982, 1.985472]\n[3.0018768, 1.9863545]\n[3.0017629, 1.9871833]\n"
     ]
    },
    {
     "name": "stdout",
     "output_type": "stream",
     "text": [
      "[3.0016556, 1.9879619]\n[3.001555, 1.9886931]\n[3.0014606, 1.9893799]\n[3.0013721, 1.990025]\n[3.0012887, 1.9906307]\n[3.0012102, 1.9912]\n[3.0011368, 1.9917345]\n[3.0010679, 1.9922364]\n[3.0010028, 1.9927078]\n[3.000942, 1.9931507]\n[3.0008848, 1.9935668]\n[3.0008311, 1.9939576]\n[3.0007806, 1.9943248]\n[3.0007331, 1.9946696]\n[3.0006886, 1.9949933]\n[3.0006468, 1.9952976]\n[3.0006075, 1.9955831]\n"
     ]
    },
    {
     "name": "stdout",
     "output_type": "stream",
     "text": [
      "[3.0005705, 1.9958514]\n[3.000536, 1.9961033]\n[3.0005035, 1.9963399]\n[3.0004728, 1.9965622]\n[3.0004442, 1.996771]\n[3.0004172, 1.9969671]\n[3.0003917, 1.9971513]\n[3.0003679, 1.9973242]\n[3.0003457, 1.9974867]\n[3.0003247, 1.9976394]\n[3.0003049, 1.9977829]\n[3.0002866, 1.9979177]\n[3.0002689, 1.998044]\n[3.0002527, 1.9981629]\n[3.0002372, 1.9982744]\n[3.0002229, 1.9983791]\n[3.0002093, 1.9984776]\n"
     ]
    },
    {
     "name": "stdout",
     "output_type": "stream",
     "text": [
      "[3.0001967, 1.99857]\n[3.0001848, 1.9986567]\n[3.0001736, 1.9987384]\n[3.0001631, 1.9988149]\n[3.0001531, 1.9988869]\n[3.0001438, 1.9989545]\n[3.0001349, 1.9990182]\n[3.0001268, 1.9990778]\n[3.0001192, 1.9991337]\n[3.0001118, 1.9991863]\n[3.0001051, 1.9992357]\n[3.0000987, 1.9992822]\n[3.0000927, 1.9993259]\n[3.000087, 1.9993668]\n[3.0000818, 1.9994051]\n[3.0000768, 1.9994414]\n[3.0000722, 1.9994754]\n"
     ]
    },
    {
     "name": "stdout",
     "output_type": "stream",
     "text": [
      "[3.0000677, 1.9995072]\n[3.0000637, 1.9995371]\n[3.0000596, 1.9995651]\n[3.0000563, 1.9995916]\n[3.0000527, 1.9996164]\n[3.0000496, 1.9996397]\n[3.0000465, 1.9996617]\n[3.0000436, 1.9996822]\n[3.0000412, 1.9997015]\n[3.0000386, 1.9997195]\n[3.0000362, 1.9997364]\n[3.0000341, 1.9997525]\n[3.0000319, 1.9997675]\n[3.00003, 1.9997818]\n[3.0000281, 1.999795]\n[3.0000265, 1.9998074]\n"
     ]
    },
    {
     "name": "stdout",
     "output_type": "stream",
     "text": [
      "[3.0000248, 1.9998192]\n[3.0000234, 1.9998301]\n[3.0000219, 1.9998406]\n[3.0000205, 1.9998502]\n[3.0000193, 1.9998593]\n[3.0000184, 1.9998677]\n[3.0000172, 1.9998759]\n[3.000016, 1.9998832]\n[3.000015, 1.9998903]\n[3.0000141, 1.9998972]\n[3.0000134, 1.9999032]\n[3.0000126, 1.9999092]\n[3.0000117, 1.9999149]\n[3.000011, 1.9999198]\n[3.0000103, 1.9999245]\n[3.0000098, 1.9999293]\n[3.0000091, 1.999934]\n"
     ]
    },
    {
     "name": "stdout",
     "output_type": "stream",
     "text": [
      "[3.0000086, 1.9999377]\n[3.0000081, 1.9999412]\n[3.0000076, 1.9999448]\n[3.0000072, 1.9999484]\n[3.0000067, 1.9999517]\n[3.0000062, 1.9999545]\n[3.000006, 1.9999568]\n[3.0000057, 1.9999592]\n[3.0000052, 1.9999616]\n[3.000005, 1.999964]\n[3.0000045, 1.9999664]\n[3.0000043, 1.9999688]\n[3.0000043, 1.9999706]\n[3.0000041, 1.9999717]\n[3.0000036, 1.9999729]\n[3.0000033, 1.9999744]\n[3.0000033, 1.9999756]\n"
     ]
    },
    {
     "name": "stdout",
     "output_type": "stream",
     "text": [
      "[3.0000031, 1.9999768]\n[3.0000031, 1.9999779]\n[3.0000031, 1.9999791]\n[3.0000029, 1.9999803]\n[3.0000026, 1.9999815]\n[3.0000024, 1.9999827]\n[3.0000021, 1.9999839]\n[3.0000021, 1.9999851]\n[3.0000019, 1.9999863]\n[3.0000017, 1.9999875]\n[3.0000014, 1.9999886]\n[3.0000014, 1.9999897]\n[3.0000014, 1.99999]\n[3.0000014, 1.99999]\n[3.0000014, 1.99999]\n[3.0000014, 1.99999]\n[3.0000014, 1.99999]\n"
     ]
    },
    {
     "name": "stdout",
     "output_type": "stream",
     "text": [
      "[3.0000014, 1.99999]\n[3.0000014, 1.99999]\n[3.0000014, 1.99999]\n[3.0000014, 1.99999]\n[3.0000014, 1.99999]\n[3.0000014, 1.99999]\n[3.0000014, 1.99999]\n[3.0000014, 1.99999]\n[3.0000014, 1.99999]\n[3.0000014, 1.99999]\n[3.0000014, 1.99999]\n[3.0000014, 1.99999]\n[3.0000014, 1.99999]\n[3.0000014, 1.99999]\n[3.0000014, 1.99999]\n[3.0000014, 1.99999]\n[3.0000014, 1.99999]\n"
     ]
    },
    {
     "name": "stdout",
     "output_type": "stream",
     "text": [
      "3.13018e-11\n"
     ]
    },
    {
     "data": {
      "image/png": "[encoded data removed]",
      "text/plain": [
       "<matplotlib.figure.Figure at 0x7ffa6b073278>"
      ]
     },
     "metadata": {},
     "output_type": "display_data"
    }
   ],
   "source": [
    "init = tf.global_variables_initializer()\n",
    "\n",
    "x_values = [0,2,4,6,8,10]\n",
    "y_values = [2,8,14,20,26,32]\n",
    "\n",
    "with tf.Session() as sess:\n",
    "    sess.run(init)\n",
    "    for i in range(2000):\n",
    "        sess.run(train, feed_dict={input_data:x_values, output_data:y_values})\n",
    "        if i % 10 == 0:\n",
    "            print(sess.run([slope, intercept]))\n",
    "            plt.plot(x_values, sess.run(model_operation, feed_dict={input_data:x_values}))\n",
    "    print(sess.run(loss, feed_dict={input_data:x_values, output_data:y_values}))\n",
    "    plt.plot(x_values, y_values, 'ro','Training Data')\n",
    "    plt.plot(x_values, sess.run(model_operation, feed_dict={input_data:x_values}))\n",
    "    \n",
    "    plt.show()"
   ]
  },
  {
   "cell_type": "markdown",
   "metadata": {},
   "source": [
    "Neurons and Neural Networks\n",
    "---\n",
    "Tensorflow provides functions to easily create layers of neurons for a neural network."
   ]
  },
  {
   "cell_type": "code",
   "execution_count": 25,
   "metadata": {},
   "outputs": [],
   "source": []
  },
  {
   "cell_type": "code",
   "execution_count": 25,
   "metadata": {},
   "outputs": [],
   "source": []
  },
  {
   "cell_type": "code",
   "execution_count": null,
   "metadata": {},
   "outputs": [],
   "source": []
  }
 ],
 "metadata": {
  "kernelspec": {
   "display_name": "Python 2",
   "language": "python",
   "name": "python2"
  },
  "language_info": {
   "codemirror_mode": {
    "name": "ipython",
    "version": 2
   },
   "file_extension": ".py",
   "mimetype": "text/x-python",
   "name": "python",
   "nbconvert_exporter": "python",
   "pygments_lexer": "ipython2",
   "version": "2.7.6"
  }
 },
 "nbformat": 4,
 "nbformat_minor": 0
}
